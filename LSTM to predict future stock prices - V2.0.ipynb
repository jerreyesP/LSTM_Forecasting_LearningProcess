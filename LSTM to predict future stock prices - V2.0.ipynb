{
 "cells": [
  {
   "cell_type": "markdown",
   "id": "ef895deb-69e9-475c-8775-e77ed0ed00d3",
   "metadata": {},
   "source": [
    "# LSTM to predict future stock prices - **Version 2.0**\n",
    "\n",
    "*Code developep for learning the process viewed in this blog and repository:*\n",
    "* https://medium.com/visionary-hub/using-lstms-to-predict-future-stock-prices-61f4458fc860\n",
    "\n",
    "* https://github.com/fazalmittu/StockPricePredictor/blob/main/StockPricePredictorProject.ipynb"
   ]
  },
  {
   "cell_type": "code",
   "execution_count": 1,
   "id": "e124ec9c-af3e-4b38-890e-4dad5a17dd88",
   "metadata": {},
   "outputs": [],
   "source": [
    "import pandas as pd\n",
    "import numpy as np\n",
    "import tensorflow as tf\n",
    "# For represent the data\n",
    "import matplotlib.pyplot as plt\n",
    "# For scale the data before introduce in neural network\n",
    "from sklearn.preprocessing import MinMaxScaler\n",
    "# For create the model with sequential (model.add())\n",
    "from tensorflow.keras.models import Sequential\n",
    "# For create the architecture of the neural network\n",
    "from tensorflow.keras.layers import Dense, LSTM, Dropout\n",
    "# For represent learning curves\n",
    "import matplotlib as mpl\n",
    "# Metrics\n",
    "# For obtain the root MSE\n",
    "import math\n",
    "from sklearn.metrics import mean_squared_error\n",
    "from sklearn.metrics import mean_absolute_percentage_error #Best way"
   ]
  },
  {
   "cell_type": "code",
   "execution_count": 2,
   "id": "8a712bfc-78df-4b21-8814-d41c36f93cee",
   "metadata": {},
   "outputs": [
    {
     "name": "stdout",
     "output_type": "stream",
     "text": [
      "Resultado physical devices: [PhysicalDevice(name='/physical_device:GPU:0', device_type='GPU')]\n",
      "Num GPUs:  1\n",
      "GPU disponible en:  <function is_gpu_available at 0x000001FEAFE4D2D0>\n"
     ]
    }
   ],
   "source": [
    "# Checking GPU \n",
    "\n",
    "physical_devices = tf.config.list_physical_devices('GPU')\n",
    "print(f\"Resultado physical devices: {physical_devices}\")\n",
    "print(\"Num GPUs: \", len(physical_devices))\n",
    "print(\"GPU disponible en: \", tf.test.is_gpu_available)"
   ]
  },
  {
   "cell_type": "code",
   "execution_count": 3,
   "id": "c6ac5114-b6e9-4e89-8c70-14ec472359bb",
   "metadata": {},
   "outputs": [
    {
     "data": {
      "text/html": [
       "<div>\n",
       "<style scoped>\n",
       "    .dataframe tbody tr th:only-of-type {\n",
       "        vertical-align: middle;\n",
       "    }\n",
       "\n",
       "    .dataframe tbody tr th {\n",
       "        vertical-align: top;\n",
       "    }\n",
       "\n",
       "    .dataframe thead th {\n",
       "        text-align: right;\n",
       "    }\n",
       "</style>\n",
       "<table border=\"1\" class=\"dataframe\">\n",
       "  <thead>\n",
       "    <tr style=\"text-align: right;\">\n",
       "      <th></th>\n",
       "      <th>Date</th>\n",
       "      <th>Open</th>\n",
       "      <th>High</th>\n",
       "      <th>Low</th>\n",
       "      <th>Close</th>\n",
       "      <th>Adj Close</th>\n",
       "      <th>Volume</th>\n",
       "    </tr>\n",
       "  </thead>\n",
       "  <tbody>\n",
       "    <tr>\n",
       "      <th>0</th>\n",
       "      <td>2020-03-02</td>\n",
       "      <td>70.570000</td>\n",
       "      <td>75.360001</td>\n",
       "      <td>69.430000</td>\n",
       "      <td>74.702499</td>\n",
       "      <td>73.581810</td>\n",
       "      <td>341397200</td>\n",
       "    </tr>\n",
       "    <tr>\n",
       "      <th>1</th>\n",
       "      <td>2020-03-03</td>\n",
       "      <td>75.917503</td>\n",
       "      <td>76.000000</td>\n",
       "      <td>71.449997</td>\n",
       "      <td>72.330002</td>\n",
       "      <td>71.244896</td>\n",
       "      <td>319475600</td>\n",
       "    </tr>\n",
       "    <tr>\n",
       "      <th>2</th>\n",
       "      <td>2020-03-04</td>\n",
       "      <td>74.110001</td>\n",
       "      <td>75.849998</td>\n",
       "      <td>73.282501</td>\n",
       "      <td>75.684998</td>\n",
       "      <td>74.549568</td>\n",
       "      <td>219178400</td>\n",
       "    </tr>\n",
       "    <tr>\n",
       "      <th>3</th>\n",
       "      <td>2020-03-05</td>\n",
       "      <td>73.879997</td>\n",
       "      <td>74.887497</td>\n",
       "      <td>72.852501</td>\n",
       "      <td>73.230003</td>\n",
       "      <td>72.131393</td>\n",
       "      <td>187572800</td>\n",
       "    </tr>\n",
       "    <tr>\n",
       "      <th>4</th>\n",
       "      <td>2020-03-06</td>\n",
       "      <td>70.500000</td>\n",
       "      <td>72.705002</td>\n",
       "      <td>70.307503</td>\n",
       "      <td>72.257500</td>\n",
       "      <td>71.173485</td>\n",
       "      <td>226176800</td>\n",
       "    </tr>\n",
       "  </tbody>\n",
       "</table>\n",
       "</div>"
      ],
      "text/plain": [
       "         Date       Open       High        Low      Close  Adj Close  \\\n",
       "0  2020-03-02  70.570000  75.360001  69.430000  74.702499  73.581810   \n",
       "1  2020-03-03  75.917503  76.000000  71.449997  72.330002  71.244896   \n",
       "2  2020-03-04  74.110001  75.849998  73.282501  75.684998  74.549568   \n",
       "3  2020-03-05  73.879997  74.887497  72.852501  73.230003  72.131393   \n",
       "4  2020-03-06  70.500000  72.705002  70.307503  72.257500  71.173485   \n",
       "\n",
       "      Volume  \n",
       "0  341397200  \n",
       "1  319475600  \n",
       "2  219178400  \n",
       "3  187572800  \n",
       "4  226176800  "
      ]
     },
     "execution_count": 3,
     "metadata": {},
     "output_type": "execute_result"
    }
   ],
   "source": [
    "df = pd.read_csv(r\"data/AAPL.csv\")\n",
    "df.head(5)"
   ]
  },
  {
   "cell_type": "code",
   "execution_count": 4,
   "id": "9e2b59b8-5841-44e0-bbf8-f6117170c8b8",
   "metadata": {},
   "outputs": [
    {
     "name": "stdout",
     "output_type": "stream",
     "text": [
      "Length for the data: 252\n"
     ]
    },
    {
     "data": {
      "text/html": [
       "<div>\n",
       "<style scoped>\n",
       "    .dataframe tbody tr th:only-of-type {\n",
       "        vertical-align: middle;\n",
       "    }\n",
       "\n",
       "    .dataframe tbody tr th {\n",
       "        vertical-align: top;\n",
       "    }\n",
       "\n",
       "    .dataframe thead th {\n",
       "        text-align: right;\n",
       "    }\n",
       "</style>\n",
       "<table border=\"1\" class=\"dataframe\">\n",
       "  <thead>\n",
       "    <tr style=\"text-align: right;\">\n",
       "      <th></th>\n",
       "      <th>Open</th>\n",
       "      <th>High</th>\n",
       "      <th>Low</th>\n",
       "      <th>Close</th>\n",
       "      <th>Adj Close</th>\n",
       "      <th>Volume</th>\n",
       "    </tr>\n",
       "    <tr>\n",
       "      <th>Date</th>\n",
       "      <th></th>\n",
       "      <th></th>\n",
       "      <th></th>\n",
       "      <th></th>\n",
       "      <th></th>\n",
       "      <th></th>\n",
       "    </tr>\n",
       "  </thead>\n",
       "  <tbody>\n",
       "    <tr>\n",
       "      <th>2020-03-02</th>\n",
       "      <td>70.570000</td>\n",
       "      <td>75.360001</td>\n",
       "      <td>69.430000</td>\n",
       "      <td>74.702499</td>\n",
       "      <td>73.581810</td>\n",
       "      <td>341397200</td>\n",
       "    </tr>\n",
       "    <tr>\n",
       "      <th>2020-03-03</th>\n",
       "      <td>75.917503</td>\n",
       "      <td>76.000000</td>\n",
       "      <td>71.449997</td>\n",
       "      <td>72.330002</td>\n",
       "      <td>71.244896</td>\n",
       "      <td>319475600</td>\n",
       "    </tr>\n",
       "    <tr>\n",
       "      <th>2020-03-04</th>\n",
       "      <td>74.110001</td>\n",
       "      <td>75.849998</td>\n",
       "      <td>73.282501</td>\n",
       "      <td>75.684998</td>\n",
       "      <td>74.549568</td>\n",
       "      <td>219178400</td>\n",
       "    </tr>\n",
       "    <tr>\n",
       "      <th>2020-03-05</th>\n",
       "      <td>73.879997</td>\n",
       "      <td>74.887497</td>\n",
       "      <td>72.852501</td>\n",
       "      <td>73.230003</td>\n",
       "      <td>72.131393</td>\n",
       "      <td>187572800</td>\n",
       "    </tr>\n",
       "    <tr>\n",
       "      <th>2020-03-06</th>\n",
       "      <td>70.500000</td>\n",
       "      <td>72.705002</td>\n",
       "      <td>70.307503</td>\n",
       "      <td>72.257500</td>\n",
       "      <td>71.173485</td>\n",
       "      <td>226176800</td>\n",
       "    </tr>\n",
       "  </tbody>\n",
       "</table>\n",
       "</div>"
      ],
      "text/plain": [
       "                 Open       High        Low      Close  Adj Close     Volume\n",
       "Date                                                                        \n",
       "2020-03-02  70.570000  75.360001  69.430000  74.702499  73.581810  341397200\n",
       "2020-03-03  75.917503  76.000000  71.449997  72.330002  71.244896  319475600\n",
       "2020-03-04  74.110001  75.849998  73.282501  75.684998  74.549568  219178400\n",
       "2020-03-05  73.879997  74.887497  72.852501  73.230003  72.131393  187572800\n",
       "2020-03-06  70.500000  72.705002  70.307503  72.257500  71.173485  226176800"
      ]
     },
     "execution_count": 4,
     "metadata": {},
     "output_type": "execute_result"
    }
   ],
   "source": [
    "# Convert to datatime \n",
    "df['Date'] = pd.to_datetime(df.Date,format='%Y-%m-%d')\n",
    "df.index = df['Date']\n",
    "df = df.drop(['Date'], axis=1)\n",
    "print(f\"Length for the data: {len(df)}\")\n",
    "df.head(5)"
   ]
  },
  {
   "cell_type": "code",
   "execution_count": 5,
   "id": "46f6beab-8006-491c-8567-6935a6fbeab5",
   "metadata": {},
   "outputs": [
    {
     "data": {
      "image/png": "[encoded data removed]",
      "text/plain": [
       "<Figure size 1152x576 with 1 Axes>"
      ]
     },
     "metadata": {
      "needs_background": "light"
     },
     "output_type": "display_data"
    }
   ],
   "source": [
    "# Represent data\n",
    "plt.figure(figsize=(16,8))\n",
    "plt.title(\"Close Prices from Stock Price Apple\")\n",
    "plt.plot(df['Close'], label='Close Value')\n",
    "plt.legend(loc='best')\n",
    "plt.show()"
   ]
  },
  {
   "cell_type": "markdown",
   "id": "701981bd-b0d9-4109-af95-492dd019452b",
   "metadata": {},
   "source": [
    "# Data processing"
   ]
  },
  {
   "cell_type": "code",
   "execution_count": 6,
   "id": "5459b5c4-6c69-48d4-8374-55602b4694c8",
   "metadata": {},
   "outputs": [
    {
     "data": {
      "text/html": [
       "<div>\n",
       "<style scoped>\n",
       "    .dataframe tbody tr th:only-of-type {\n",
       "        vertical-align: middle;\n",
       "    }\n",
       "\n",
       "    .dataframe tbody tr th {\n",
       "        vertical-align: top;\n",
       "    }\n",
       "\n",
       "    .dataframe thead th {\n",
       "        text-align: right;\n",
       "    }\n",
       "</style>\n",
       "<table border=\"1\" class=\"dataframe\">\n",
       "  <thead>\n",
       "    <tr style=\"text-align: right;\">\n",
       "      <th></th>\n",
       "      <th>Close</th>\n",
       "    </tr>\n",
       "    <tr>\n",
       "      <th>Date</th>\n",
       "      <th></th>\n",
       "    </tr>\n",
       "  </thead>\n",
       "  <tbody>\n",
       "    <tr>\n",
       "      <th>2020-03-02</th>\n",
       "      <td>74.702499</td>\n",
       "    </tr>\n",
       "    <tr>\n",
       "      <th>2020-03-03</th>\n",
       "      <td>72.330002</td>\n",
       "    </tr>\n",
       "    <tr>\n",
       "      <th>2020-03-04</th>\n",
       "      <td>75.684998</td>\n",
       "    </tr>\n",
       "    <tr>\n",
       "      <th>2020-03-05</th>\n",
       "      <td>73.230003</td>\n",
       "    </tr>\n",
       "    <tr>\n",
       "      <th>2020-03-06</th>\n",
       "      <td>72.257500</td>\n",
       "    </tr>\n",
       "  </tbody>\n",
       "</table>\n",
       "</div>"
      ],
      "text/plain": [
       "                Close\n",
       "Date                 \n",
       "2020-03-02  74.702499\n",
       "2020-03-03  72.330002\n",
       "2020-03-04  75.684998\n",
       "2020-03-05  73.230003\n",
       "2020-03-06  72.257500"
      ]
     },
     "execution_count": 6,
     "metadata": {},
     "output_type": "execute_result"
    }
   ],
   "source": [
    "# La variable de interes es lo que me interesa, las otras no\n",
    "\n",
    "# We only want the target feature\n",
    "df = df.drop(['Open', 'High', 'Low', 'Adj Close', 'Volume'], axis=1)\n",
    "df.head(5)"
   ]
  },
  {
   "cell_type": "code",
   "execution_count": 7,
   "id": "011da7fc-36b8-4956-a469-527692bf1ed9",
   "metadata": {},
   "outputs": [
    {
     "name": "stdout",
     "output_type": "stream",
     "text": [
      "El tamaño Total de la secuencia es de: 252\n",
      "El tamaño de secuencia establecido para Train es de: 168\n",
      "El tamaño de secuencia establecido para Test es de: 84\n"
     ]
    }
   ],
   "source": [
    "# La secuencia es muy importante en Time series forecasting, LSTM, GRU, etc. Por ello no se puede usar \n",
    "# train_test_split ya que esta hace la division de manera aleatoria y haciendo un shuffle y esto es lo \n",
    "# que queremos evitar\n",
    "\n",
    "size_data = len(df)\n",
    "train_size = int(len(df) * 0.67)\n",
    "test_size = len(df) - train_size\n",
    "print(f\"El tamaño Total de la secuencia es de: {size_data}\")\n",
    "print(f\"El tamaño de secuencia establecido para Train es de: {train_size}\")\n",
    "print(f\"El tamaño de secuencia establecido para Test es de: {test_size}\")"
   ]
  },
  {
   "cell_type": "markdown",
   "id": "af7e0dc0-9262-4a65-9fbf-46ae9d48572e",
   "metadata": {},
   "source": [
    "## Changing Type"
   ]
  },
  {
   "cell_type": "code",
   "execution_count": 8,
   "id": "9a1ce2e9-5465-42aa-921d-c3ae0ddd8278",
   "metadata": {},
   "outputs": [
    {
     "name": "stdout",
     "output_type": "stream",
     "text": [
      "<class 'pandas.core.frame.DataFrame'>\n",
      "<class 'numpy.ndarray'>\n",
      "<class 'pandas.core.frame.DataFrame'>\n"
     ]
    }
   ],
   "source": [
    "print(type(df))\n",
    "print(type(df.values))\n",
    "print(type(df.astype('float32')))\n",
    "# Es hacer lo mismo? Por tanto este paso sería incesesario??\n",
    "# SÍ QUE ES NECESARIO PORQUE SINO NO SE PUEDE HACER LA DIVISON EN TRAIN, TEST"
   ]
  },
  {
   "cell_type": "code",
   "execution_count": 9,
   "id": "07e0b8ee-1a79-46c7-9274-7583afac6a98",
   "metadata": {},
   "outputs": [],
   "source": [
    "df = df.values\n",
    "df = df.astype('float32')"
   ]
  },
  {
   "cell_type": "markdown",
   "id": "8d51be63-7568-4b8c-98f6-9ba0249daec2",
   "metadata": {},
   "source": [
    "## Scaling Data"
   ]
  },
  {
   "cell_type": "code",
   "execution_count": 10,
   "id": "e7355082-38fb-426d-a05c-ef393b08a23b",
   "metadata": {},
   "outputs": [
    {
     "data": {
      "text/plain": [
       "array([[0.21374226],\n",
       "       [0.18649328],\n",
       "       [0.22502655],\n",
       "       [0.1968301 ],\n",
       "       [0.1856606 ]], dtype=float32)"
      ]
     },
     "execution_count": 10,
     "metadata": {},
     "output_type": "execute_result"
    }
   ],
   "source": [
    "# Scale the data\n",
    "\n",
    "scaler = MinMaxScaler(feature_range = (0,1))\n",
    "df = scaler.fit_transform(df)\n",
    "df[0:5]"
   ]
  },
  {
   "cell_type": "code",
   "execution_count": 11,
   "id": "a6d86eef-1d50-43ca-9bc1-40356a9030d5",
   "metadata": {},
   "outputs": [
    {
     "name": "stdout",
     "output_type": "stream",
     "text": [
      "Los datos para Train, son los siguientes:\n",
      "\n",
      "[[0.21374226]\n",
      " [0.18649328]\n",
      " [0.22502655]\n",
      " [0.1968301 ]\n",
      " [0.1856606 ]]\n",
      "\n",
      "\n",
      "\n",
      "Los datos para Test, son los siguientes:\n",
      "\n",
      "[[0.6329285 ]\n",
      " [0.680248  ]\n",
      " [0.60605276]\n",
      " [0.6050191 ]\n",
      " [0.6241996 ]]\n"
     ]
    }
   ],
   "source": [
    "# Creamos set de training y de validacion\n",
    "\n",
    "Train = df[0:train_size, :]\n",
    "Test = df[train_size:len(df), :]\n",
    "print(f\"Los datos para Train, son los siguientes:\\n\")\n",
    "print(Train[0:5])\n",
    "print(\"\\n\\n\")\n",
    "print(f\"Los datos para Test, son los siguientes:\\n\")\n",
    "print(Test[0:5])"
   ]
  },
  {
   "cell_type": "markdown",
   "id": "b5008674-d11a-4ba2-bc8f-b9a8e108711e",
   "metadata": {},
   "source": [
    "## New sequence of data"
   ]
  },
  {
   "cell_type": "code",
   "execution_count": 12,
   "id": "b23752d3-2da0-4eab-abeb-26798378a76b",
   "metadata": {},
   "outputs": [],
   "source": [
    "# look_back is window time, which time we want to predict\n",
    "\n",
    "def Create_Dataset(dataset, look_back):\n",
    "    # Create two empty list\n",
    "    DataX, DataY = [], []\n",
    "    # Fill the list with the new sequence with the window\n",
    "    for i in range(len(dataset) - look_back - 1):\n",
    "        a = dataset[i: (i + look_back), 0]\n",
    "        DataX.append(a)\n",
    "        DataY.append(dataset[i + look_back, 0])\n",
    "    # Return an array of the new sequence \n",
    "    return np.array(DataX), np.array(DataY)"
   ]
  },
  {
   "cell_type": "code",
   "execution_count": 13,
   "id": "dc549af5-ade0-4b4b-9969-e5c1305ed209",
   "metadata": {},
   "outputs": [
    {
     "name": "stdout",
     "output_type": "stream",
     "text": [
      "[0.21374226 0.18649328 0.22502655 0.1968301  0.1856606  0.12002188\n",
      " 0.17506534 0.14661038 0.06851006 0.1539036 ] 0.05122465\n",
      "[0.18649328 0.22502655 0.1968301  0.1856606  0.12002188 0.17506534\n",
      " 0.14661038 0.06851006 0.1539036  0.05122465] 0.081804395\n",
      "[0.22502655 0.1968301  0.1856606  0.12002188 0.17506534 0.14661038\n",
      " 0.06851006 0.1539036  0.05122465 0.08180439] 0.064030826\n",
      "[0.1968301  0.1856606  0.12002188 0.17506534 0.14661038 0.06851006\n",
      " 0.1539036  0.05122465 0.08180439 0.06403083] 0.058604002\n",
      "[0.1856606  0.12002188 0.17506534 0.14661038 0.06851006 0.1539036\n",
      " 0.05122465 0.08180439 0.06403083 0.058604  ] 0.0139834285\n"
     ]
    }
   ],
   "source": [
    "# Establecemos la ventana de predicción, cuantos puntos en el futuro predeciremos\n",
    "# Es decir al ser 10, y estoy en la posición 1, pues a partir de la posición 1 intentaré\n",
    "# predecir la posición 11. Otra cosa el time_steps que nos dirá cuantos puntos tengo en \n",
    "# cuenta para hacer esa predicción que busco\n",
    "look_back = 10\n",
    "\n",
    "# Creamos secuencias para train y test\n",
    "TrainX, TrainY = Create_Dataset(Train, look_back)\n",
    "TestX, TestY = Create_Dataset(Test, look_back)\n",
    "\n",
    "# Observamos los datos\n",
    "for i in range(5):\n",
    "    print(TrainX[i], TrainY[i])"
   ]
  },
  {
   "cell_type": "markdown",
   "id": "309afc97-0e13-4ee8-88d2-43af65bdad94",
   "metadata": {},
   "source": [
    "## Reshape Entry Data"
   ]
  },
  {
   "cell_type": "code",
   "execution_count": 14,
   "id": "2218178a-159c-4ad4-8d7d-cdf2c718d343",
   "metadata": {},
   "outputs": [
    {
     "name": "stdout",
     "output_type": "stream",
     "text": [
      "El shape para el set de training es: (157, 10)\n",
      "El shape para el set de test es: (73, 10)\n"
     ]
    }
   ],
   "source": [
    "# Las redes LSTM, se esperan una entrada del estilo: [samples, time-steps, features] \n",
    "# pero actualemente nuestros sets de datos tienen este tipo de shape [samples, features], comprobamos:\n",
    "\n",
    "print(f\"El shape para el set de training es: {TrainX.shape}\")\n",
    "print(f\"El shape para el set de test es: {TestX.shape}\")"
   ]
  },
  {
   "cell_type": "code",
   "execution_count": 15,
   "id": "a196e399-4f6c-4235-9326-ea28f6de5ad0",
   "metadata": {},
   "outputs": [
    {
     "name": "stdout",
     "output_type": "stream",
     "text": [
      "El shape para el set de training es: (157, 1, 10)\n",
      "El shape para el set de test es: (73, 1, 10)\n"
     ]
    }
   ],
   "source": [
    "# Por tanto se debe readaptar el shape antes de introducir a la red, por ello se hace lo siguiente.\n",
    "# Pero el time-step, que valor debe tener? Es correcto pensar que se trata de las muestras a tener \n",
    "# en cuenta para realizar la prediccion para una ventana temporal ya establecida. Es decir para \n",
    "# predicir la posición que tengo a 10 posiciones adelante, voy a mirar 5 (time-steps) anteriores \n",
    "# a mi para intentar predecir.\n",
    "# ------ CHECKEAR SI ESTO ES ACERTADO -----------------\n",
    "\n",
    "\n",
    "# Resehape entry data\n",
    "# [samples, time-steps, features]\n",
    "time_steps = 1\n",
    "TrainX = np.reshape(TrainX, (TrainX.shape[0], time_steps, TrainX.shape[1]))\n",
    "TestX = np.reshape(TestX, (TestX.shape[0], time_steps, TestX.shape[1]))\n",
    "print(f\"El shape para el set de training es: {TrainX.shape}\")\n",
    "print(f\"El shape para el set de test es: {TestX.shape}\")"
   ]
  },
  {
   "cell_type": "markdown",
   "id": "96b993f0-92b9-439b-9ecb-4f43fcd91958",
   "metadata": {},
   "source": [
    "# Model Architecture"
   ]
  },
  {
   "cell_type": "code",
   "execution_count": 16,
   "id": "cb28cff0-68e3-45e5-b7e7-4e54df03eea6",
   "metadata": {},
   "outputs": [
    {
     "name": "stdout",
     "output_type": "stream",
     "text": [
      "Model: \"sequential\"\n",
      "_________________________________________________________________\n",
      " Layer (type)                Output Shape              Param #   \n",
      "=================================================================\n",
      " lstm (LSTM)                 (None, 1, 1000)           4044000   \n",
      "                                                                 \n",
      " lstm_1 (LSTM)               (None, 1, 1000)           8004000   \n",
      "                                                                 \n",
      " lstm_2 (LSTM)               (None, 1000)              8004000   \n",
      "                                                                 \n",
      " dense (Dense)               (None, 1)                 1001      \n",
      "                                                                 \n",
      "=================================================================\n",
      "Total params: 20,053,001\n",
      "Trainable params: 20,053,001\n",
      "Non-trainable params: 0\n",
      "_________________________________________________________________\n"
     ]
    }
   ],
   "source": [
    "model = Sequential()\n",
    "# Why in this case, input shape is 60,1?? - In the other model of power consumption was the same but diferent value, last_n\n",
    "# input_shape = 1 entrada que será una tupla más la ventana temporal a utilizar\n",
    "model.add(LSTM(units = 1000, return_sequences = True, input_shape=(1, look_back)))\n",
    "model.add(LSTM(units = 1000, return_sequences = True))\n",
    "model.add(LSTM(units = 1000))\n",
    "model.add(Dense(1))\n",
    "model.summary()"
   ]
  },
  {
   "cell_type": "markdown",
   "id": "f5590654-0e06-4c27-92ae-334cde36cbea",
   "metadata": {},
   "source": [
    "# Training Process"
   ]
  },
  {
   "cell_type": "code",
   "execution_count": 17,
   "id": "4b8fc02c-7ed6-4738-91d1-5321a26ab55f",
   "metadata": {},
   "outputs": [
    {
     "name": "stdout",
     "output_type": "stream",
     "text": [
      "Epoch 1/100\n",
      "5/5 [==============================] - 5s 17ms/step - loss: 0.1553\n",
      "Epoch 2/100\n",
      "5/5 [==============================] - 0s 14ms/step - loss: 0.0357\n",
      "Epoch 3/100\n",
      "5/5 [==============================] - 0s 14ms/step - loss: 0.0293\n",
      "Epoch 4/100\n",
      "5/5 [==============================] - 0s 14ms/step - loss: 0.0142\n",
      "Epoch 5/100\n",
      "5/5 [==============================] - 0s 14ms/step - loss: 0.0128\n",
      "Epoch 6/100\n",
      "5/5 [==============================] - 0s 14ms/step - loss: 0.0099\n",
      "Epoch 7/100\n",
      "5/5 [==============================] - 0s 14ms/step - loss: 0.0052\n",
      "Epoch 8/100\n",
      "5/5 [==============================] - 0s 14ms/step - loss: 0.0046\n",
      "Epoch 9/100\n",
      "5/5 [==============================] - 0s 14ms/step - loss: 0.0038\n",
      "Epoch 10/100\n",
      "5/5 [==============================] - 0s 14ms/step - loss: 0.0029\n",
      "Epoch 11/100\n",
      "5/5 [==============================] - 0s 14ms/step - loss: 0.0027\n",
      "Epoch 12/100\n",
      "5/5 [==============================] - 0s 14ms/step - loss: 0.0027\n",
      "Epoch 13/100\n",
      "5/5 [==============================] - 0s 14ms/step - loss: 0.0025\n",
      "Epoch 14/100\n",
      "5/5 [==============================] - 0s 13ms/step - loss: 0.0023\n",
      "Epoch 15/100\n",
      "5/5 [==============================] - 0s 14ms/step - loss: 0.0023\n",
      "Epoch 16/100\n",
      "5/5 [==============================] - 0s 14ms/step - loss: 0.0022\n",
      "Epoch 17/100\n",
      "5/5 [==============================] - 0s 14ms/step - loss: 0.0021\n",
      "Epoch 18/100\n",
      "5/5 [==============================] - 0s 14ms/step - loss: 0.0020\n",
      "Epoch 19/100\n",
      "5/5 [==============================] - 0s 15ms/step - loss: 0.0020\n",
      "Epoch 20/100\n",
      "5/5 [==============================] - 0s 14ms/step - loss: 0.0019\n",
      "Epoch 21/100\n",
      "5/5 [==============================] - 0s 14ms/step - loss: 0.0019\n",
      "Epoch 22/100\n",
      "5/5 [==============================] - 0s 14ms/step - loss: 0.0018\n",
      "Epoch 23/100\n",
      "5/5 [==============================] - 0s 14ms/step - loss: 0.0019\n",
      "Epoch 24/100\n",
      "5/5 [==============================] - 0s 14ms/step - loss: 0.0018\n",
      "Epoch 25/100\n",
      "5/5 [==============================] - 0s 14ms/step - loss: 0.0018\n",
      "Epoch 26/100\n",
      "5/5 [==============================] - 0s 15ms/step - loss: 0.0015\n",
      "Epoch 27/100\n",
      "5/5 [==============================] - 0s 14ms/step - loss: 0.0014\n",
      "Epoch 28/100\n",
      "5/5 [==============================] - 0s 13ms/step - loss: 0.0013\n",
      "Epoch 29/100\n",
      "5/5 [==============================] - 0s 15ms/step - loss: 0.0013\n",
      "Epoch 30/100\n",
      "5/5 [==============================] - 0s 14ms/step - loss: 0.0013\n",
      "Epoch 31/100\n",
      "5/5 [==============================] - 0s 14ms/step - loss: 0.0013\n",
      "Epoch 32/100\n",
      "5/5 [==============================] - 0s 14ms/step - loss: 0.0017\n",
      "Epoch 33/100\n",
      "5/5 [==============================] - 0s 14ms/step - loss: 0.0014\n",
      "Epoch 34/100\n",
      "5/5 [==============================] - 0s 13ms/step - loss: 0.0016\n",
      "Epoch 35/100\n",
      "5/5 [==============================] - 0s 14ms/step - loss: 0.0020\n",
      "Epoch 36/100\n",
      "5/5 [==============================] - 0s 15ms/step - loss: 0.0015\n",
      "Epoch 37/100\n",
      "5/5 [==============================] - 0s 14ms/step - loss: 0.0014\n",
      "Epoch 38/100\n",
      "5/5 [==============================] - 0s 14ms/step - loss: 0.0012\n",
      "Epoch 39/100\n",
      "5/5 [==============================] - 0s 14ms/step - loss: 0.0011\n",
      "Epoch 40/100\n",
      "5/5 [==============================] - 0s 14ms/step - loss: 0.0015\n",
      "Epoch 41/100\n",
      "5/5 [==============================] - 0s 14ms/step - loss: 0.0016\n",
      "Epoch 42/100\n",
      "5/5 [==============================] - 0s 14ms/step - loss: 0.0017\n",
      "Epoch 43/100\n",
      "5/5 [==============================] - 0s 14ms/step - loss: 0.0012\n",
      "Epoch 44/100\n",
      "5/5 [==============================] - 0s 14ms/step - loss: 0.0011\n",
      "Epoch 45/100\n",
      "5/5 [==============================] - 0s 14ms/step - loss: 0.0012\n",
      "Epoch 46/100\n",
      "5/5 [==============================] - 0s 14ms/step - loss: 0.0013\n",
      "Epoch 47/100\n",
      "5/5 [==============================] - 0s 14ms/step - loss: 0.0015\n",
      "Epoch 48/100\n",
      "5/5 [==============================] - 0s 14ms/step - loss: 0.0011\n",
      "Epoch 49/100\n",
      "5/5 [==============================] - 0s 15ms/step - loss: 0.0011\n",
      "Epoch 50/100\n",
      "5/5 [==============================] - 0s 14ms/step - loss: 0.0011\n",
      "Epoch 51/100\n",
      "5/5 [==============================] - 0s 14ms/step - loss: 0.0016\n",
      "Epoch 52/100\n",
      "5/5 [==============================] - 0s 13ms/step - loss: 0.0015\n",
      "Epoch 53/100\n",
      "5/5 [==============================] - 0s 14ms/step - loss: 0.0013\n",
      "Epoch 54/100\n",
      "5/5 [==============================] - 0s 15ms/step - loss: 0.0013\n",
      "Epoch 55/100\n",
      "5/5 [==============================] - 0s 14ms/step - loss: 0.0014\n",
      "Epoch 56/100\n",
      "5/5 [==============================] - 0s 14ms/step - loss: 0.0012\n",
      "Epoch 57/100\n",
      "5/5 [==============================] - 0s 14ms/step - loss: 0.0015\n",
      "Epoch 58/100\n",
      "5/5 [==============================] - 0s 14ms/step - loss: 0.0012\n",
      "Epoch 59/100\n",
      "5/5 [==============================] - 0s 14ms/step - loss: 0.0013\n",
      "Epoch 60/100\n",
      "5/5 [==============================] - 0s 14ms/step - loss: 0.0011\n",
      "Epoch 61/100\n",
      "5/5 [==============================] - 0s 14ms/step - loss: 0.0012\n",
      "Epoch 62/100\n",
      "5/5 [==============================] - 0s 14ms/step - loss: 0.0011\n",
      "Epoch 63/100\n",
      "5/5 [==============================] - 0s 14ms/step - loss: 0.0013\n",
      "Epoch 64/100\n",
      "5/5 [==============================] - 0s 14ms/step - loss: 0.0016\n",
      "Epoch 65/100\n",
      "5/5 [==============================] - 0s 14ms/step - loss: 0.0013\n",
      "Epoch 66/100\n",
      "5/5 [==============================] - 0s 14ms/step - loss: 0.0010\n",
      "Epoch 67/100\n",
      "5/5 [==============================] - 0s 14ms/step - loss: 9.4850e-04\n",
      "Epoch 68/100\n",
      "5/5 [==============================] - 0s 14ms/step - loss: 0.0013\n",
      "Epoch 69/100\n",
      "5/5 [==============================] - 0s 14ms/step - loss: 0.0013\n",
      "Epoch 70/100\n",
      "5/5 [==============================] - 0s 14ms/step - loss: 0.0019\n",
      "Epoch 71/100\n",
      "5/5 [==============================] - 0s 13ms/step - loss: 0.0018\n",
      "Epoch 72/100\n",
      "5/5 [==============================] - 0s 14ms/step - loss: 0.0011\n",
      "Epoch 73/100\n",
      "5/5 [==============================] - 0s 13ms/step - loss: 0.0015\n",
      "Epoch 74/100\n",
      "5/5 [==============================] - 0s 14ms/step - loss: 0.0015\n",
      "Epoch 75/100\n",
      "5/5 [==============================] - 0s 14ms/step - loss: 0.0012\n",
      "Epoch 76/100\n",
      "5/5 [==============================] - 0s 13ms/step - loss: 0.0010\n",
      "Epoch 77/100\n",
      "5/5 [==============================] - 0s 14ms/step - loss: 0.0011\n",
      "Epoch 78/100\n",
      "5/5 [==============================] - 0s 14ms/step - loss: 9.6169e-04\n",
      "Epoch 79/100\n",
      "5/5 [==============================] - 0s 14ms/step - loss: 0.0011\n",
      "Epoch 80/100\n",
      "5/5 [==============================] - 0s 14ms/step - loss: 9.6966e-04\n",
      "Epoch 81/100\n",
      "5/5 [==============================] - 0s 14ms/step - loss: 9.3863e-04\n",
      "Epoch 82/100\n",
      "5/5 [==============================] - 0s 14ms/step - loss: 9.1254e-04\n",
      "Epoch 83/100\n",
      "5/5 [==============================] - 0s 14ms/step - loss: 9.4487e-04\n",
      "Epoch 84/100\n",
      "5/5 [==============================] - 0s 14ms/step - loss: 0.0011\n",
      "Epoch 85/100\n",
      "5/5 [==============================] - 0s 14ms/step - loss: 9.8091e-04\n",
      "Epoch 86/100\n",
      "5/5 [==============================] - 0s 14ms/step - loss: 9.8939e-04\n",
      "Epoch 87/100\n",
      "5/5 [==============================] - 0s 14ms/step - loss: 0.0013\n",
      "Epoch 88/100\n",
      "5/5 [==============================] - 0s 13ms/step - loss: 9.7329e-04\n",
      "Epoch 89/100\n",
      "5/5 [==============================] - 0s 15ms/step - loss: 0.0011\n",
      "Epoch 90/100\n",
      "5/5 [==============================] - 0s 14ms/step - loss: 8.9195e-04\n",
      "Epoch 91/100\n",
      "5/5 [==============================] - 0s 14ms/step - loss: 0.0010\n",
      "Epoch 92/100\n",
      "5/5 [==============================] - 0s 14ms/step - loss: 0.0012\n",
      "Epoch 93/100\n",
      "5/5 [==============================] - 0s 14ms/step - loss: 0.0012\n",
      "Epoch 94/100\n",
      "5/5 [==============================] - 0s 13ms/step - loss: 0.0011\n",
      "Epoch 95/100\n",
      "5/5 [==============================] - 0s 14ms/step - loss: 0.0010\n",
      "Epoch 96/100\n",
      "5/5 [==============================] - 0s 14ms/step - loss: 0.0010\n",
      "Epoch 97/100\n",
      "5/5 [==============================] - 0s 15ms/step - loss: 9.9312e-04\n",
      "Epoch 98/100\n",
      "5/5 [==============================] - 0s 13ms/step - loss: 0.0010\n",
      "Epoch 99/100\n",
      "5/5 [==============================] - 0s 15ms/step - loss: 0.0010\n",
      "Epoch 100/100\n",
      "5/5 [==============================] - 0s 15ms/step - loss: 0.0012\n"
     ]
    }
   ],
   "source": [
    "model.compile(loss='mean_squared_error', optimizer='adam')\n",
    "history = model.fit(TrainX, TrainY, epochs=100, verbose=1)"
   ]
  },
  {
   "cell_type": "code",
   "execution_count": 18,
   "id": "2f922068-42a6-4154-8a4d-6c85f9199cdd",
   "metadata": {},
   "outputs": [],
   "source": [
    "import matplotlib as mpl\n",
    "\n",
    "def plot_learning_curves(loss):\n",
    "    plt.figure(figsize=(15,5))\n",
    "    plt.title('Learning Curves')\n",
    "    plt.plot(np.arange(len(loss)) + 0.5, loss, \"b.-\", label=\"Training loss\")\n",
    "    # plt.plot(np.arange(len(val_loss)) + 1, val_loss, \"r.-\", label=\"Validation loss\")\n",
    "    plt.gca().xaxis.set_major_locator(mpl.ticker.MaxNLocator(integer=True)) # mlp is matplotlib as mpl - \n",
    "    plt.axis([1, len(loss), 0, 0.05])\n",
    "    plt.legend(fontsize=14)\n",
    "    plt.xlabel(\"Epochs\")\n",
    "    plt.ylabel(\"Loss\")\n",
    "    plt.grid(True)"
   ]
  },
  {
   "cell_type": "code",
   "execution_count": 19,
   "id": "1a9cd158-f02f-4909-8f5c-3252733d2e50",
   "metadata": {},
   "outputs": [
    {
     "data": {
      "image/png": "[encoded data removed]",
      "text/plain": [
       "<Figure size 1080x360 with 1 Axes>"
      ]
     },
     "metadata": {
      "needs_background": "light"
     },
     "output_type": "display_data"
    }
   ],
   "source": [
    "plot_learning_curves(history.history[\"loss\"])"
   ]
  },
  {
   "cell_type": "markdown",
   "id": "665695f0-d65c-4697-998a-9e6f83b1cede",
   "metadata": {},
   "source": [
    "# Evaluation"
   ]
  },
  {
   "cell_type": "code",
   "execution_count": 20,
   "id": "a85b0111-f8f0-4500-859d-c4247836b403",
   "metadata": {},
   "outputs": [
    {
     "name": "stdout",
     "output_type": "stream",
     "text": [
      "5/5 [==============================] - 1s 5ms/step\n",
      "3/3 [==============================] - 0s 5ms/step\n",
      "\n",
      "\n",
      "[0.13441074] [0.7061521]\n",
      "[0.10292628] [0.7198916]\n",
      "[0.08180282] [0.7323017]\n"
     ]
    }
   ],
   "source": [
    "# Se realiza la predicción de los sets\n",
    "TrainPredict = model.predict(TrainX)\n",
    "TestPredict = model.predict(TestX)\n",
    "print(\"\\n\")\n",
    "for i in range(3):\n",
    "    print(TrainPredict[i], TestPredict[i])"
   ]
  },
  {
   "cell_type": "code",
   "execution_count": 21,
   "id": "d9b50123-6a40-46ac-834e-d400137c7c59",
   "metadata": {},
   "outputs": [
    {
     "name": "stdout",
     "output_type": "stream",
     "text": [
      "\n",
      "\n",
      "[67.7953] [117.57539]\n",
      "[65.05403] [118.77167]\n",
      "[63.214867] [119.85218]\n"
     ]
    }
   ],
   "source": [
    "# Se realiza la inversa de la normalización para obtener los datos en escala correcta\n",
    "# Tanto para Predicciones como para los datos de entrada para representar más adelante\n",
    "TrainPredict_inverse = scaler.inverse_transform(TrainPredict)\n",
    "TestPredict_inverse = scaler.inverse_transform(TestPredict)\n",
    "\n",
    "# <--- WARNING --->\n",
    "# Para TrainY y TestY se debe pasar como lista por eso se utiliza '[]'\n",
    "TrainY = scaler.inverse_transform([TrainY]) \n",
    "TestY = scaler.inverse_transform([TestY])\n",
    "\n",
    "print(\"\\n\")\n",
    "for i in range(3):\n",
    "    print(TrainPredict_inverse[i], TestPredict_inverse[i])"
   ]
  },
  {
   "cell_type": "code",
   "execution_count": 25,
   "id": "9ed43336-0c2d-407a-9fb5-a74fabddd796",
   "metadata": {},
   "outputs": [
    {
     "name": "stdout",
     "output_type": "stream",
     "text": [
      "El error porcentual absoluto medio (MAPE) para training es: 0.021 %\n",
      "El error porcentual absoluto medio (MAPE) para test es: 0.015 %\n"
     ]
    }
   ],
   "source": [
    "# Se obtiene el score de root MSE\n",
    "TrainScore = round(mean_absolute_percentage_error(TrainY[0], TrainPredict_inverse[:, 0]),3)\n",
    "print(f\"El error porcentual absoluto medio (MAPE) para training es: {TrainScore} %\")\n",
    "\n",
    "TestScore = round(mean_absolute_percentage_error(TestY[0], TestPredict_inverse[:, 0]),3)\n",
    "print(f\"El error porcentual absoluto medio (MAPE) para test es: {TestScore} %\")"
   ]
  },
  {
   "cell_type": "code",
   "execution_count": 28,
   "id": "805deabb-a39c-4dca-ba86-2470f67c9418",
   "metadata": {},
   "outputs": [],
   "source": [
    "############### RRMSE Calculation #################\n",
    "\n",
    "def relative_root_mean_squared_error(true, pred):\n",
    "    num = np.sum(np.square(true - pred))\n",
    "    den = np.sum(np.square(pred))\n",
    "    squared_error = num/den\n",
    "    rrmse_loss = np.sqrt(squared_error)\n",
    "    return rrmse_loss\n",
    "############### RRMSE Calculation ###################"
   ]
  },
  {
   "cell_type": "code",
   "execution_count": 27,
   "id": "649a3d3c-3cf4-4ebc-8ba5-fdf66917a4c2",
   "metadata": {},
   "outputs": [
    {
     "name": "stdout",
     "output_type": "stream",
     "text": [
      "El RRMSE para training es: 0.028 %\n",
      "El RRMSE para test es: 0.02 %\n"
     ]
    }
   ],
   "source": [
    "# Se obtiene el score de root MSE\n",
    "TrainScore = round(relative_root_mean_squared_error(TrainY[0], TrainPredict_inverse[:, 0]),3)\n",
    "print(f\"El RRMSE para training es: {TrainScore} %\")\n",
    "\n",
    "TestScore = round(relative_root_mean_squared_error(TestY[0], TestPredict_inverse[:, 0]),3)\n",
    "print(f\"El RRMSE para test es: {TestScore} %\")"
   ]
  },
  {
   "cell_type": "code",
   "execution_count": 23,
   "id": "8c7ae5a4-ac21-4c5c-a010-16c85e6649c2",
   "metadata": {},
   "outputs": [],
   "source": [
    "# Se debe reformatear para representar\n",
    "TrainPredictPlot = np.empty_like(df)\n",
    "\n",
    "# Se marcan todas las filas y columnas como nan\n",
    "TrainPredictPlot[: , :] = np.nan\n",
    "\n",
    "# Introducir mis predicciones a partir de la fila de mi ventana \n",
    "# temporal hasta la longitud de mis predicciones mas mi ventana\n",
    "# hacer esto con todas las columnas\n",
    "TrainPredictPlot[look_back:len(TrainPredict_inverse) + look_back, :] = TrainPredict_inverse \n",
    "\n",
    "# Hacer lo mismo para Test\n",
    "TestPredictPlot = np.empty_like(df)\n",
    "TestPredictPlot[:, :] = np.nan\n",
    "TestPredictPlot[len(TrainPredict_inverse) + (look_back * 2) + 1: len(df) - 1, :] = TestPredict_inverse"
   ]
  },
  {
   "cell_type": "code",
   "execution_count": 24,
   "id": "0c6fb020-a962-47fc-ae39-c7a8e6d922e0",
   "metadata": {},
   "outputs": [
    {
     "data": {
      "image/png": "[encoded data removed]",
      "text/plain": [
       "<Figure size 1080x576 with 1 Axes>"
      ]
     },
     "metadata": {
      "needs_background": "light"
     },
     "output_type": "display_data"
    }
   ],
   "source": [
    "# Plot\n",
    "\n",
    "plt.figure(figsize=(15,8))\n",
    "plt.title('Original Data & Forecast for Close Price - Apple Inc')\n",
    "plt.plot(scaler.inverse_transform(df), label = 'Original Data')\n",
    "plt.plot(TrainPredictPlot, label='Train')\n",
    "plt.plot(TestPredictPlot, label='Test')\n",
    "plt.legend(loc='best')\n",
    "plt.show()"
   ]
  },
  {
   "cell_type": "code",
   "execution_count": null,
   "id": "fc8d0ebf-6d6d-4b05-b0bf-4f9b8c33dfd9",
   "metadata": {},
   "outputs": [],
   "source": []
  }
 ],
 "metadata": {
  "kernelspec": {
   "display_name": "Python 3 (ipykernel)",
   "language": "python",
   "name": "python3"
  },
  "language_info": {
   "codemirror_mode": {
    "name": "ipython",
    "version": 3
   },
   "file_extension": ".py",
   "mimetype": "text/x-python",
   "name": "python",
   "nbconvert_exporter": "python",
   "pygments_lexer": "ipython3",
   "version": "3.10.4"
  }
 },
 "nbformat": 4,
 "nbformat_minor": 5
}
