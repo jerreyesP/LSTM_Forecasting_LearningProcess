{
 "cells": [
  {
   "cell_type": "markdown",
   "id": "94fc11c1-307e-4223-806a-25dd244c8d70",
   "metadata": {},
   "source": [
    "# LSTM to predict future stock prices\n",
    "\n",
    "*Code developep for learning the process viewed in this blog and repository:*\n",
    "* https://medium.com/visionary-hub/using-lstms-to-predict-future-stock-prices-61f4458fc860\n",
    "\n",
    "* https://github.com/fazalmittu/StockPricePredictor/blob/main/StockPricePredictorProject.ipynb"
   ]
  },
  {
   "cell_type": "code",
   "execution_count": 5,
   "id": "264df993-face-41a1-a970-9542cb97f0ed",
   "metadata": {},
   "outputs": [],
   "source": [
    "import pandas as pd\n",
    "import numpy as np\n",
    "import tensorflow as tf\n",
    "# For represent the data\n",
    "import matplotlib.pyplot as plt\n",
    "# For scale the data before introduce in neural network\n",
    "from sklearn.preprocessing import MinMaxScaler\n",
    "# For create the model with sequential (model.add())\n",
    "from tensorflow.keras.models import Sequential\n",
    "# For create the architecture of the neural network\n",
    "from tensorflow.keras.layers import Dense, LSTM, Dropout"
   ]
  },
  {
   "cell_type": "code",
   "execution_count": 7,
   "id": "43195ae9-16c4-4c3a-9333-f813d90cb13c",
   "metadata": {},
   "outputs": [
    {
     "name": "stdout",
     "output_type": "stream",
     "text": [
      "Resultado physical devices: [PhysicalDevice(name='/physical_device:GPU:0', device_type='GPU')]\n",
      "Num GPUs:  1\n",
      "GPU disponible en:  <function is_gpu_available at 0x000002286AF6D510>\n"
     ]
    }
   ],
   "source": [
    "# Checking GPU \n",
    "\n",
    "physical_devices = tf.config.list_physical_devices('GPU')\n",
    "print(f\"Resultado physical devices: {physical_devices}\")\n",
    "print(\"Num GPUs: \", len(physical_devices))\n",
    "print(\"GPU disponible en: \", tf.test.is_gpu_available)"
   ]
  },
  {
   "cell_type": "markdown",
   "id": "6ea096e3-f789-4576-89c6-16a7de3ba883",
   "metadata": {},
   "source": [
    "The practical application of this project is to assist stock traders in their buying decisions by using historical data of stock pricing to identify trends and predict future prices. This product was built to provide assurance when making financial decisions. We use data from Apple."
   ]
  },
  {
   "cell_type": "markdown",
   "id": "2bd8281c-6869-4c63-9009-56eba23d0876",
   "metadata": {},
   "source": [
    "# Reading data"
   ]
  },
  {
   "cell_type": "code",
   "execution_count": 38,
   "id": "913e4404-8b76-43e4-bdd0-2e58cb5378a4",
   "metadata": {},
   "outputs": [
    {
     "data": {
      "text/html": [
       "<div>\n",
       "<style scoped>\n",
       "    .dataframe tbody tr th:only-of-type {\n",
       "        vertical-align: middle;\n",
       "    }\n",
       "\n",
       "    .dataframe tbody tr th {\n",
       "        vertical-align: top;\n",
       "    }\n",
       "\n",
       "    .dataframe thead th {\n",
       "        text-align: right;\n",
       "    }\n",
       "</style>\n",
       "<table border=\"1\" class=\"dataframe\">\n",
       "  <thead>\n",
       "    <tr style=\"text-align: right;\">\n",
       "      <th></th>\n",
       "      <th>Date</th>\n",
       "      <th>Open</th>\n",
       "      <th>High</th>\n",
       "      <th>Low</th>\n",
       "      <th>Close</th>\n",
       "      <th>Adj Close</th>\n",
       "      <th>Volume</th>\n",
       "    </tr>\n",
       "  </thead>\n",
       "  <tbody>\n",
       "    <tr>\n",
       "      <th>0</th>\n",
       "      <td>2020-03-02</td>\n",
       "      <td>70.570000</td>\n",
       "      <td>75.360001</td>\n",
       "      <td>69.430000</td>\n",
       "      <td>74.702499</td>\n",
       "      <td>73.581810</td>\n",
       "      <td>341397200</td>\n",
       "    </tr>\n",
       "    <tr>\n",
       "      <th>1</th>\n",
       "      <td>2020-03-03</td>\n",
       "      <td>75.917503</td>\n",
       "      <td>76.000000</td>\n",
       "      <td>71.449997</td>\n",
       "      <td>72.330002</td>\n",
       "      <td>71.244896</td>\n",
       "      <td>319475600</td>\n",
       "    </tr>\n",
       "    <tr>\n",
       "      <th>2</th>\n",
       "      <td>2020-03-04</td>\n",
       "      <td>74.110001</td>\n",
       "      <td>75.849998</td>\n",
       "      <td>73.282501</td>\n",
       "      <td>75.684998</td>\n",
       "      <td>74.549568</td>\n",
       "      <td>219178400</td>\n",
       "    </tr>\n",
       "    <tr>\n",
       "      <th>3</th>\n",
       "      <td>2020-03-05</td>\n",
       "      <td>73.879997</td>\n",
       "      <td>74.887497</td>\n",
       "      <td>72.852501</td>\n",
       "      <td>73.230003</td>\n",
       "      <td>72.131393</td>\n",
       "      <td>187572800</td>\n",
       "    </tr>\n",
       "    <tr>\n",
       "      <th>4</th>\n",
       "      <td>2020-03-06</td>\n",
       "      <td>70.500000</td>\n",
       "      <td>72.705002</td>\n",
       "      <td>70.307503</td>\n",
       "      <td>72.257500</td>\n",
       "      <td>71.173485</td>\n",
       "      <td>226176800</td>\n",
       "    </tr>\n",
       "  </tbody>\n",
       "</table>\n",
       "</div>"
      ],
      "text/plain": [
       "         Date       Open       High        Low      Close  Adj Close  \\\n",
       "0  2020-03-02  70.570000  75.360001  69.430000  74.702499  73.581810   \n",
       "1  2020-03-03  75.917503  76.000000  71.449997  72.330002  71.244896   \n",
       "2  2020-03-04  74.110001  75.849998  73.282501  75.684998  74.549568   \n",
       "3  2020-03-05  73.879997  74.887497  72.852501  73.230003  72.131393   \n",
       "4  2020-03-06  70.500000  72.705002  70.307503  72.257500  71.173485   \n",
       "\n",
       "      Volume  \n",
       "0  341397200  \n",
       "1  319475600  \n",
       "2  219178400  \n",
       "3  187572800  \n",
       "4  226176800  "
      ]
     },
     "execution_count": 38,
     "metadata": {},
     "output_type": "execute_result"
    }
   ],
   "source": [
    "df = pd.read_csv(r\"data/AAPL.csv\")\n",
    "df.head(5)"
   ]
  },
  {
   "cell_type": "markdown",
   "id": "59c12379-ce1b-4357-a94b-49cbd3c60e9a",
   "metadata": {},
   "source": [
    "The information is format day by day, sequential, that's good but is not the index, we will fix that. Our target is the column 'Close', because is the price os close price, that we want to know because the model would assist the traders if they should buy or not with that reference."
   ]
  },
  {
   "cell_type": "code",
   "execution_count": 39,
   "id": "08de38e5-d89a-4847-b4d5-9ff223a44959",
   "metadata": {},
   "outputs": [
    {
     "name": "stdout",
     "output_type": "stream",
     "text": [
      "Length for the data: 252\n"
     ]
    },
    {
     "data": {
      "text/html": [
       "<div>\n",
       "<style scoped>\n",
       "    .dataframe tbody tr th:only-of-type {\n",
       "        vertical-align: middle;\n",
       "    }\n",
       "\n",
       "    .dataframe tbody tr th {\n",
       "        vertical-align: top;\n",
       "    }\n",
       "\n",
       "    .dataframe thead th {\n",
       "        text-align: right;\n",
       "    }\n",
       "</style>\n",
       "<table border=\"1\" class=\"dataframe\">\n",
       "  <thead>\n",
       "    <tr style=\"text-align: right;\">\n",
       "      <th></th>\n",
       "      <th>Date</th>\n",
       "      <th>Open</th>\n",
       "      <th>High</th>\n",
       "      <th>Low</th>\n",
       "      <th>Close</th>\n",
       "      <th>Adj Close</th>\n",
       "      <th>Volume</th>\n",
       "    </tr>\n",
       "    <tr>\n",
       "      <th>Date</th>\n",
       "      <th></th>\n",
       "      <th></th>\n",
       "      <th></th>\n",
       "      <th></th>\n",
       "      <th></th>\n",
       "      <th></th>\n",
       "      <th></th>\n",
       "    </tr>\n",
       "  </thead>\n",
       "  <tbody>\n",
       "    <tr>\n",
       "      <th>2020-03-02</th>\n",
       "      <td>2020-03-02</td>\n",
       "      <td>70.570000</td>\n",
       "      <td>75.360001</td>\n",
       "      <td>69.430000</td>\n",
       "      <td>74.702499</td>\n",
       "      <td>73.581810</td>\n",
       "      <td>341397200</td>\n",
       "    </tr>\n",
       "    <tr>\n",
       "      <th>2020-03-03</th>\n",
       "      <td>2020-03-03</td>\n",
       "      <td>75.917503</td>\n",
       "      <td>76.000000</td>\n",
       "      <td>71.449997</td>\n",
       "      <td>72.330002</td>\n",
       "      <td>71.244896</td>\n",
       "      <td>319475600</td>\n",
       "    </tr>\n",
       "    <tr>\n",
       "      <th>2020-03-04</th>\n",
       "      <td>2020-03-04</td>\n",
       "      <td>74.110001</td>\n",
       "      <td>75.849998</td>\n",
       "      <td>73.282501</td>\n",
       "      <td>75.684998</td>\n",
       "      <td>74.549568</td>\n",
       "      <td>219178400</td>\n",
       "    </tr>\n",
       "    <tr>\n",
       "      <th>2020-03-05</th>\n",
       "      <td>2020-03-05</td>\n",
       "      <td>73.879997</td>\n",
       "      <td>74.887497</td>\n",
       "      <td>72.852501</td>\n",
       "      <td>73.230003</td>\n",
       "      <td>72.131393</td>\n",
       "      <td>187572800</td>\n",
       "    </tr>\n",
       "    <tr>\n",
       "      <th>2020-03-06</th>\n",
       "      <td>2020-03-06</td>\n",
       "      <td>70.500000</td>\n",
       "      <td>72.705002</td>\n",
       "      <td>70.307503</td>\n",
       "      <td>72.257500</td>\n",
       "      <td>71.173485</td>\n",
       "      <td>226176800</td>\n",
       "    </tr>\n",
       "  </tbody>\n",
       "</table>\n",
       "</div>"
      ],
      "text/plain": [
       "                 Date       Open       High        Low      Close  Adj Close  \\\n",
       "Date                                                                           \n",
       "2020-03-02 2020-03-02  70.570000  75.360001  69.430000  74.702499  73.581810   \n",
       "2020-03-03 2020-03-03  75.917503  76.000000  71.449997  72.330002  71.244896   \n",
       "2020-03-04 2020-03-04  74.110001  75.849998  73.282501  75.684998  74.549568   \n",
       "2020-03-05 2020-03-05  73.879997  74.887497  72.852501  73.230003  72.131393   \n",
       "2020-03-06 2020-03-06  70.500000  72.705002  70.307503  72.257500  71.173485   \n",
       "\n",
       "               Volume  \n",
       "Date                   \n",
       "2020-03-02  341397200  \n",
       "2020-03-03  319475600  \n",
       "2020-03-04  219178400  \n",
       "2020-03-05  187572800  \n",
       "2020-03-06  226176800  "
      ]
     },
     "execution_count": 39,
     "metadata": {},
     "output_type": "execute_result"
    }
   ],
   "source": [
    "# Convert to datatime \n",
    "df['Date'] = pd.to_datetime(df.Date,format='%Y-%m-%d')\n",
    "df.index = df['Date']\n",
    "print(f\"Length for the data: {len(df)}\")\n",
    "df.head(5)"
   ]
  },
  {
   "cell_type": "code",
   "execution_count": 40,
   "id": "18380329-bd48-45a0-9682-2ebd10ad2c58",
   "metadata": {},
   "outputs": [
    {
     "data": {
      "image/png": "[encoded data removed]",
      "text/plain": [
       "<Figure size 1152x576 with 1 Axes>"
      ]
     },
     "metadata": {
      "needs_background": "light"
     },
     "output_type": "display_data"
    }
   ],
   "source": [
    "# Represent data\n",
    "plt.figure(figsize=(16,8))\n",
    "plt.title(\"Stock Prices\")\n",
    "plt.plot(df['Volume'], label='Amount of Stocks')\n",
    "plt.legend(loc='best')\n",
    "plt.show()"
   ]
  },
  {
   "cell_type": "markdown",
   "id": "f1802f5a-e6cc-4fd7-8d29-e29571b3774f",
   "metadata": {},
   "source": [
    "# Data processing"
   ]
  },
  {
   "cell_type": "code",
   "execution_count": 41,
   "id": "5c1e1a25-00c0-4e22-abb9-f449318495ab",
   "metadata": {},
   "outputs": [
    {
     "name": "stdout",
     "output_type": "stream",
     "text": [
      "Length for the dataset2: 252\n"
     ]
    },
    {
     "data": {
      "text/html": [
       "<div>\n",
       "<style scoped>\n",
       "    .dataframe tbody tr th:only-of-type {\n",
       "        vertical-align: middle;\n",
       "    }\n",
       "\n",
       "    .dataframe tbody tr th {\n",
       "        vertical-align: top;\n",
       "    }\n",
       "\n",
       "    .dataframe thead th {\n",
       "        text-align: right;\n",
       "    }\n",
       "</style>\n",
       "<table border=\"1\" class=\"dataframe\">\n",
       "  <thead>\n",
       "    <tr style=\"text-align: right;\">\n",
       "      <th></th>\n",
       "      <th>Date</th>\n",
       "      <th>Close</th>\n",
       "    </tr>\n",
       "  </thead>\n",
       "  <tbody>\n",
       "    <tr>\n",
       "      <th>0</th>\n",
       "      <td>NaN</td>\n",
       "      <td>NaN</td>\n",
       "    </tr>\n",
       "    <tr>\n",
       "      <th>1</th>\n",
       "      <td>NaN</td>\n",
       "      <td>NaN</td>\n",
       "    </tr>\n",
       "    <tr>\n",
       "      <th>2</th>\n",
       "      <td>NaN</td>\n",
       "      <td>NaN</td>\n",
       "    </tr>\n",
       "    <tr>\n",
       "      <th>3</th>\n",
       "      <td>NaN</td>\n",
       "      <td>NaN</td>\n",
       "    </tr>\n",
       "    <tr>\n",
       "      <th>4</th>\n",
       "      <td>NaN</td>\n",
       "      <td>NaN</td>\n",
       "    </tr>\n",
       "  </tbody>\n",
       "</table>\n",
       "</div>"
      ],
      "text/plain": [
       "  Date Close\n",
       "0  NaN   NaN\n",
       "1  NaN   NaN\n",
       "2  NaN   NaN\n",
       "3  NaN   NaN\n",
       "4  NaN   NaN"
      ]
     },
     "execution_count": 41,
     "metadata": {},
     "output_type": "execute_result"
    }
   ],
   "source": [
    "# Create an empty dataframe that will be filled by our data filtered by sorted 'Date' and 'Close' price\n",
    "dataset = df.sort_index(ascending=True, axis=0)\n",
    "dataset2 = pd.DataFrame(index=range(0,len(dataset)),columns=['Date', 'Close'])\n",
    "print(f\"Length for the dataset2: {len(dataset2)}\")\n",
    "dataset2.head(5)"
   ]
  },
  {
   "cell_type": "code",
   "execution_count": 42,
   "id": "66f40a08-9c8e-4755-99ef-9533df1e705f",
   "metadata": {},
   "outputs": [
    {
     "name": "stdout",
     "output_type": "stream",
     "text": [
      "Length for the dataset2: 252\n"
     ]
    },
    {
     "data": {
      "text/html": [
       "<div>\n",
       "<style scoped>\n",
       "    .dataframe tbody tr th:only-of-type {\n",
       "        vertical-align: middle;\n",
       "    }\n",
       "\n",
       "    .dataframe tbody tr th {\n",
       "        vertical-align: top;\n",
       "    }\n",
       "\n",
       "    .dataframe thead th {\n",
       "        text-align: right;\n",
       "    }\n",
       "</style>\n",
       "<table border=\"1\" class=\"dataframe\">\n",
       "  <thead>\n",
       "    <tr style=\"text-align: right;\">\n",
       "      <th></th>\n",
       "      <th>Close</th>\n",
       "    </tr>\n",
       "    <tr>\n",
       "      <th>Date</th>\n",
       "      <th></th>\n",
       "    </tr>\n",
       "  </thead>\n",
       "  <tbody>\n",
       "    <tr>\n",
       "      <th>2020-03-02</th>\n",
       "      <td>74.702499</td>\n",
       "    </tr>\n",
       "    <tr>\n",
       "      <th>2020-03-03</th>\n",
       "      <td>72.330002</td>\n",
       "    </tr>\n",
       "    <tr>\n",
       "      <th>2020-03-04</th>\n",
       "      <td>75.684998</td>\n",
       "    </tr>\n",
       "    <tr>\n",
       "      <th>2020-03-05</th>\n",
       "      <td>73.230003</td>\n",
       "    </tr>\n",
       "    <tr>\n",
       "      <th>2020-03-06</th>\n",
       "      <td>72.2575</td>\n",
       "    </tr>\n",
       "  </tbody>\n",
       "</table>\n",
       "</div>"
      ],
      "text/plain": [
       "                Close\n",
       "Date                 \n",
       "2020-03-02  74.702499\n",
       "2020-03-03  72.330002\n",
       "2020-03-04  75.684998\n",
       "2020-03-05  73.230003\n",
       "2020-03-06    72.2575"
      ]
     },
     "execution_count": 42,
     "metadata": {},
     "output_type": "execute_result"
    }
   ],
   "source": [
    "# Process for fill all our data in the new dataframe\n",
    "for i in range(0,len(dataset)):\n",
    "    dataset2['Date'][i] = dataset['Date'][i]\n",
    "    dataset2['Close'][i] = dataset['Close'][i]\n",
    "\n",
    "# Establish date like index for dataframe\n",
    "dataset2.index = dataset2.Date\n",
    "dataset2.drop('Date', axis=1, inplace = True)\n",
    "print(f\"Length for the dataset2: {len(dataset2)}\")\n",
    "dataset2.head(5)"
   ]
  },
  {
   "cell_type": "code",
   "execution_count": 47,
   "id": "499df533-2d84-403c-9f9d-ce1062ba700a",
   "metadata": {},
   "outputs": [
    {
     "name": "stdout",
     "output_type": "stream",
     "text": [
      "Length for the dataset3: 252\n",
      "Shape for the dataset of train: (177, 1)\n",
      "Shape for the dataset of validation: (75, 1)\n"
     ]
    }
   ],
   "source": [
    "# Create Dataset for train and validation\n",
    "data_df = dataset2.values \n",
    "print(f\"Length for the dataset3: {len(dataset3)}\")\n",
    "\n",
    "# --- This steps dont do nothing-------\n",
    "\n",
    "# Train since 0 to position 177. Why? -> Beacause len(data_df) = 252, 252*0.7 = 177\n",
    "train = data_df[0:177, :]\n",
    "\n",
    "# Validation lenght the rest of the data since position 177 to the end\n",
    "validation = data_df[177:, :]\n",
    "\n",
    "# Shape for the diferents datasets\n",
    "print(f\"Shape for the dataset of train: {train.shape}\")\n",
    "print(f\"Shape for the dataset of validation: {validation.shape}\")"
   ]
  },
  {
   "cell_type": "markdown",
   "id": "8e6a8f88-56af-46d7-aacd-00d9e9171612",
   "metadata": {},
   "source": [
    "## Data Scaling"
   ]
  },
  {
   "cell_type": "code",
   "execution_count": 49,
   "id": "8ccfefc3-d326-4b4b-b0c0-f32685618f86",
   "metadata": {},
   "outputs": [
    {
     "name": "stdout",
     "output_type": "stream",
     "text": [
      "[[0.2137422 ]\n",
      " [0.18649326]\n",
      " [0.22502654]\n",
      " [0.19683008]\n",
      " [0.18566055]]\n"
     ]
    }
   ],
   "source": [
    "# We must scale the data because the neural network works with 0 and 1 values\n",
    "\n",
    "scaler = MinMaxScaler(feature_range = (0, 1))\n",
    "scaled_data = scaler.fit_transform(data_df)\n",
    "print(scaled_data[0:5])"
   ]
  },
  {
   "cell_type": "code",
   "execution_count": 63,
   "id": "91fea392-de34-48a6-9cac-211962a1a32c",
   "metadata": {},
   "outputs": [
    {
     "name": "stdout",
     "output_type": "stream",
     "text": [
      "Shape for the dataset of train: x_train = (117, 60) y_train = (117,)\n",
      "Shape for the dataset of train: x_train = (117, 60, 1) y_train = (117,)\n"
     ]
    }
   ],
   "source": [
    "# Create secuence of data xtrain, ytrain\n",
    "\n",
    "# empty list\n",
    "x_train, y_train = [], []\n",
    "\n",
    "# Why in this step there are a 60 value?\n",
    "for i in range(60, len(train)):\n",
    "    x_train.append(scaled_data[i-60: i, 0])\n",
    "    y_train.append(scaled_data[i, 0])\n",
    "\n",
    "# Convert x_train and y_train in array objects\n",
    "x_train, y_train = np.array(x_train), np.array(y_train)\n",
    "print(f\"Shape for the dataset of train: x_train = {x_train.shape} y_train = {y_train.shape}\")\n",
    "\n",
    "# Why this step??\n",
    "x_train = np.reshape(x_train, (x_train.shape[0],x_train.shape[1],1))\n",
    "print(f\"Shape for the dataset of train: x_train = {x_train.shape} y_train = {y_train.shape}\")"
   ]
  },
  {
   "cell_type": "markdown",
   "id": "14b41768-0766-4825-b41c-6f320543986b",
   "metadata": {},
   "source": [
    "# Model Architecture"
   ]
  },
  {
   "cell_type": "code",
   "execution_count": 105,
   "id": "e2a56885-7753-4045-83fc-a6ff02e8c394",
   "metadata": {},
   "outputs": [
    {
     "name": "stdout",
     "output_type": "stream",
     "text": [
      "Model: \"sequential_1\"\n",
      "_________________________________________________________________\n",
      " Layer (type)                Output Shape              Param #   \n",
      "=================================================================\n",
      " lstm_2 (LSTM)               (None, 60, 1000)          4008000   \n",
      "                                                                 \n",
      " lstm_3 (LSTM)               (None, 1000)              8004000   \n",
      "                                                                 \n",
      " dense_1 (Dense)             (None, 1)                 1001      \n",
      "                                                                 \n",
      "=================================================================\n",
      "Total params: 12,013,001\n",
      "Trainable params: 12,013,001\n",
      "Non-trainable params: 0\n",
      "_________________________________________________________________\n"
     ]
    }
   ],
   "source": [
    "model = Sequential()\n",
    "# Why in this case, input shape is 60,1?? - In the other model of power consumption was the same but diferent value, last_n\n",
    "model.add(LSTM(units=1000, return_sequences = True, input_shape=(x_train.shape[1], 1)))\n",
    "model.add(LSTM(units=1000))\n",
    "model.add(Dense(1))\n",
    "model.summary()"
   ]
  },
  {
   "cell_type": "markdown",
   "id": "84bdfcdf-c32c-40f8-bf92-71469681237f",
   "metadata": {},
   "source": [
    "# Training Process"
   ]
  },
  {
   "cell_type": "code",
   "execution_count": 106,
   "id": "525f40a5-7f6e-4ca4-a1d2-a13a57a1fa7f",
   "metadata": {},
   "outputs": [
    {
     "name": "stdout",
     "output_type": "stream",
     "text": [
      "117/117 [==============================] - 6s 31ms/step - loss: 0.0292\n"
     ]
    }
   ],
   "source": [
    "model.compile(loss='mean_squared_error', optimizer='adam')\n",
    "history = model.fit(x_train, y_train, epochs=1, batch_size=1, verbose=1)"
   ]
  },
  {
   "cell_type": "code",
   "execution_count": 80,
   "id": "948c8561-3174-4170-99e6-c1236b661ebf",
   "metadata": {},
   "outputs": [],
   "source": [
    "def ResultsViz(history_model):\n",
    "    x_range = len(history_model.history['loss'])\n",
    "\n",
    "    plt.figure(figsize=(15, 5))\n",
    "    epoch_list = list(range(1,x_range+1))\n",
    "\n",
    "    plt.plot(epoch_list, history_model.history['loss'], label='Train Loss')\n",
    "    plt.yticks(fontsize=15)\n",
    "    plt.xticks(np.arange(0, x_range+1, 2), fontsize=15)\n",
    "    plt.ylabel('Loss Value')\n",
    "    plt.xlabel('Epoch')\n",
    "    plt.title('Training and Validation Results', fontsize=25)\n",
    "    plt.legend(loc=\"best\", fontsize=12)\n",
    "    plt.show()"
   ]
  },
  {
   "cell_type": "code",
   "execution_count": 81,
   "id": "0ff3dded-e649-45b5-a46f-49bfb9ece0da",
   "metadata": {},
   "outputs": [
    {
     "data": {
      "image/png": "[encoded data removed]",
      "text/plain": [
       "<Figure size 1080x360 with 1 Axes>"
      ]
     },
     "metadata": {
      "needs_background": "light"
     },
     "output_type": "display_data"
    }
   ],
   "source": [
    "ResultsViz(history)"
   ]
  },
  {
   "cell_type": "markdown",
   "id": "baff6c84-8f86-41bb-852b-c231c35afff4",
   "metadata": {},
   "source": [
    "# Evaluation"
   ]
  },
  {
   "cell_type": "code",
   "execution_count": 107,
   "id": "23861356-da1e-4ffc-bf9a-f79f58647710",
   "metadata": {},
   "outputs": [
    {
     "name": "stdout",
     "output_type": "stream",
     "text": [
      "Shape for the dataset of test: x_test = (57, 60)\n",
      "Shape for the dataset of test: x_test = (57, 60, 1)\n"
     ]
    }
   ],
   "source": [
    "# Create sequence of test data for make the predict \n",
    "\n",
    "# empty vectors\n",
    "x_test = []\n",
    "# y_test = y_pred will be our prediction\n",
    "\n",
    "# Why in this step there are a 60 value?\n",
    "for i in range(60, len(test)):\n",
    "    x_test.append(scaled_data[i-60: i, 0])\n",
    "\n",
    "# Convert x_train and y_train in array objects\n",
    "x_test = np.array(x_test)\n",
    "print(f\"Shape for the dataset of test: x_test = {x_test.shape}\")\n",
    "\n",
    "# Why this step??\n",
    "x_test = np.reshape(x_test, (x_test.shape[0], x_test.shape[1],1))\n",
    "print(f\"Shape for the dataset of test: x_test = {x_test.shape}\")"
   ]
  },
  {
   "cell_type": "code",
   "execution_count": 108,
   "id": "e54517e7-466c-4f5f-99b2-480eec651933",
   "metadata": {},
   "outputs": [
    {
     "name": "stdout",
     "output_type": "stream",
     "text": [
      "2/2 [==============================] - 1s 121ms/step\n",
      "(57, 60, 1)\n"
     ]
    }
   ],
   "source": [
    "# Make the prediction for this data\n",
    "\n",
    "closing_price = model.predict(x_test)\n",
    "closing_price = scaler.inverse_transform(closing_price)\n",
    "print(x_test.shape)"
   ]
  },
  {
   "cell_type": "code",
   "execution_count": 109,
   "id": "3fa7dc1a-0b39-4f5e-bd92-0ed40b865439",
   "metadata": {},
   "outputs": [
    {
     "data": {
      "text/plain": [
       "57"
      ]
     },
     "execution_count": 109,
     "metadata": {},
     "output_type": "execute_result"
    }
   ],
   "source": [
    "len(closing_price)"
   ]
  },
  {
   "cell_type": "code",
   "execution_count": 110,
   "id": "580ba3f0-c8c9-48df-bdcc-60ecd2e4fd43",
   "metadata": {},
   "outputs": [
    {
     "data": {
      "text/plain": [
       "57"
      ]
     },
     "execution_count": 110,
     "metadata": {},
     "output_type": "execute_result"
    }
   ],
   "source": [
    "len(valid)"
   ]
  },
  {
   "cell_type": "code",
   "execution_count": 111,
   "id": "b633bb09-ae91-426a-ab0b-004fd3667bb6",
   "metadata": {},
   "outputs": [
    {
     "data": {
      "text/plain": [
       "252"
      ]
     },
     "execution_count": 111,
     "metadata": {},
     "output_type": "execute_result"
    }
   ],
   "source": [
    "len(data_df)"
   ]
  },
  {
   "cell_type": "code",
   "execution_count": 112,
   "id": "62c9bc23-4f40-4629-aaca-a54a14fabe70",
   "metadata": {},
   "outputs": [
    {
     "data": {
      "text/plain": [
       "195"
      ]
     },
     "execution_count": 112,
     "metadata": {},
     "output_type": "execute_result"
    }
   ],
   "source": [
    "len(data_df) - len(closing_price)"
   ]
  },
  {
   "cell_type": "code",
   "execution_count": 114,
   "id": "be0ec7c1-311b-4f67-944d-4e628c724b62",
   "metadata": {},
   "outputs": [
    {
     "name": "stderr",
     "output_type": "stream",
     "text": [
      "C:\\Users\\jerreyes_bec\\AppData\\Local\\Temp\\ipykernel_5520\\2623938803.py:5: SettingWithCopyWarning: \n",
      "A value is trying to be set on a copy of a slice from a DataFrame.\n",
      "Try using .loc[row_indexer,col_indexer] = value instead\n",
      "\n",
      "See the caveats in the documentation: https://pandas.pydata.org/pandas-docs/stable/user_guide/indexing.html#returning-a-view-versus-a-copy\n",
      "  valid['Predictions'] = closing_price\n"
     ]
    },
    {
     "data": {
      "image/png": "[encoded data removed]",
      "text/plain": [
       "<Figure size 1080x504 with 1 Axes>"
      ]
     },
     "metadata": {
      "needs_background": "light"
     },
     "output_type": "display_data"
    }
   ],
   "source": [
    "train = dataset2[:195]\n",
    "valid = dataset2[195:]\n",
    "\n",
    "\n",
    "valid['Predictions'] = closing_price\n",
    "plt.figure(figsize=(15,7))\n",
    "plt.plot(train['Close'], label = 'Train')\n",
    "plt.plot(valid['Predictions'], label = 'Prediction')\n",
    "plt.title(\"Forecasting for StockPrices Apple\")\n",
    "plt.legend(loc='best')\n",
    "plt.show()"
   ]
  },
  {
   "cell_type": "markdown",
   "id": "8ee6e0b0-3a9e-49a3-a023-c419b6f4415a",
   "metadata": {},
   "source": [
    "Why the prediction is not like the blog's example? This is weird, for sure we make a mistake but which one? We try to follow all the instruccions, we need learn more about this process, specificly in data processing and representing the prediction and the most import generating the sequence which one enter in the model."
   ]
  }
 ],
 "metadata": {
  "kernelspec": {
   "display_name": "Python 3 (ipykernel)",
   "language": "python",
   "name": "python3"
  },
  "language_info": {
   "codemirror_mode": {
    "name": "ipython",
    "version": 3
   },
   "file_extension": ".py",
   "mimetype": "text/x-python",
   "name": "python",
   "nbconvert_exporter": "python",
   "pygments_lexer": "ipython3",
   "version": "3.10.4"
  }
 },
 "nbformat": 4,
 "nbformat_minor": 5
}
